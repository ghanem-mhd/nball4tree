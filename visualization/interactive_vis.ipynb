{
 "cells": [
  {
   "cell_type": "markdown",
   "metadata": {},
   "source": [
    "# Tree Genereration"
   ]
  },
  {
   "cell_type": "markdown",
   "metadata": {},
   "source": [
    "## Input Selection"
   ]
  },
  {
   "cell_type": "code",
   "execution_count": 7,
   "metadata": {
    "scrolled": true
   },
   "outputs": [
    {
     "data": {
      "application/vnd.jupyter.widget-view+json": {
       "model_id": "4647861859d244d3b1031ced7d8ba349",
       "version_major": 2,
       "version_minor": 0
      },
      "text/plain": [
       "Combobox(value='', description='Input:', options=('Cities', 'Fruits', 'Small', 'Medium', 'Large', 'Custom'), p…"
      ]
     },
     "metadata": {},
     "output_type": "display_data"
    },
    {
     "data": {
      "application/vnd.jupyter.widget-view+json": {
       "model_id": "ad1e312ed7e045f5ae11bb8c3ab46aac",
       "version_major": 2,
       "version_minor": 0
      },
      "text/plain": [
       "Box(children=(Text(value='/Users/mhdghanem/Desktop/nball4tree/data/glove.txt', description='word2vec', placeho…"
      ]
     },
     "metadata": {},
     "output_type": "display_data"
    },
    {
     "name": "stdout",
     "output_type": "stream",
     "text": [
      "Start generating files...\n",
      "56 words paths found\n",
      "18 Leaves found\n",
      "37 Subtree found\n",
      "Finish generating files...\n"
     ]
    },
    {
     "data": {
      "application/vnd.jupyter.widget-view+json": {
       "model_id": "adef55281bc5424c848d763c5f8feb11",
       "version_major": 2,
       "version_minor": 0
      },
      "text/plain": [
       "Button(button_style='success', description='Generate Balls', style=ButtonStyle())"
      ]
     },
     "metadata": {},
     "output_type": "display_data"
    },
    {
     "name": "stdout",
     "output_type": "stream",
     "text": [
      "Start Generating balls\n"
     ]
    }
   ],
   "source": [
    "import ipywidgets as widgets\n",
    "import os, shutil\n",
    "from IPython.display import clear_output\n",
    "\n",
    "SAMPLE = None\n",
    "\n",
    "project_path        = os.path.dirname(os.getcwd())\n",
    "data_path           = project_path + '/data'\n",
    "custom_input        = data_path + \"/custom_input.txt\"\n",
    "children_file_path  = data_path + \"/small.children.txt\"\n",
    "cat_code_file_path  = data_path + \"/small.catcode.txt\"\n",
    "word2vec            = data_path + \"/glove.txt\"\n",
    "nballs_path         = data_path + \"/nballs.txt\"\n",
    "\n",
    "def generate_files(glove_file_path, output_path, sample, input_file_path):\n",
    "    generate_files_string_command = \"main_vis.py --gen --w2v %s --output %s --sample %s --input %s\"\n",
    "    command = generate_files_string_command%(glove_file_path, output_path, sample, input_file_path)     \n",
    "    %run $command\n",
    "    check_input_for_nballs()\n",
    "    \n",
    "def generate_nballs(glove_file_path):\n",
    "    generate_balls_string_command = \"../nball.py --train_nball %s --w2v %s --ws_child %s --ws_catcode %s --log %s/log.txt\"\n",
    "    command = generate_balls_string_command%(nballs_path, glove_file_path, children_file_path, cat_code_file_path, data_path)     \n",
    "    %run $command\n",
    "    check_input_for_vis()\n",
    "    \n",
    "def visualize_balls():\n",
    "    vis_string_command = \"main_vis.py --vis --balls %s --children\"\n",
    "    command = vis_string_command%(nballs_path, children_file_path)     \n",
    "    %run $command\n",
    "    \n",
    "def write_data_to_file(file_path, lines):\n",
    "    with open(file_path, 'w') as file:\n",
    "        for line in lines:\n",
    "            file.write(line)\n",
    "            if not '\\n' in line:\n",
    "                file.write(\"\\n\")\n",
    "\n",
    "# UI Widgets\n",
    "input_examples = widgets.Combobox( placeholder='Choose Example', description='Input:',\n",
    "    options=['Cities','Fruits','Small','Medium','Large','Custom']\n",
    ")\n",
    "\n",
    "check_input_button     = widgets.Button(description='Check', button_style='success')\n",
    "words_input            = widgets.Textarea(value='',description='Words', placeholder='keywords comma separated')\n",
    "word2vec_path_input    = widgets.Text(placeholder='word2vec', value = word2vec, description='word2vec')\n",
    "generate_tree_button   = widgets.Button(description='Generate Tree', button_style='success')\n",
    "generate_nballs_button = widgets.Button(description='Generate Balls', button_style='success')\n",
    "vis_button             = widgets.Button(description='Vis', button_style='success')\n",
    "buttons_box            = widgets.Box([word2vec_path_input,generate_tree_button])\n",
    "custom_box             = widgets.Box([words_input,check_input_button])\n",
    "\n",
    "\n",
    "# UI Widget functions\n",
    "def on_input_example_choose(change):\n",
    "    global SAMPLE\n",
    "    if change['type'] == 'change' and change['name'] == 'value':\n",
    "        choosen_values = change['new']\n",
    "        input_examples.disabled = True\n",
    "        SAMPLE = choosen_values\n",
    "        if (choosen_values == 'Custom'):\n",
    "            display(custom_box)\n",
    "            SAMPLE = None\n",
    "        else:\n",
    "            display(buttons_box)\n",
    "\n",
    "def on_check_button_clicked(button):\n",
    "    parsed_tokens = [x.strip() for x in str(words_input.value).split(',')]\n",
    "    words = [x for x in parsed_tokens if x]\n",
    "    if len(words) > 0:\n",
    "        words_input.disabled = True\n",
    "        check_cutom_input_button.disabled = True\n",
    "        write_data_to_file(custom_input,words)\n",
    "        display(buttons_box)\n",
    "    else:\n",
    "        print(\"Can't parse your input! Try Again!\")\n",
    "        \n",
    "def check_input_for_nballs():\n",
    "    if os.path.exists(children_file_path) and os.path.exists(cat_code_file_path):\n",
    "        display(generate_nballs_button)\n",
    "    \n",
    "def check_input_for_vis():\n",
    "    if os.path.exists(nballs_path):\n",
    "        display(vis_button)\n",
    "    \n",
    "def on_generate_tree_button_clicked(button):\n",
    "    if word2vec_path_input.value:\n",
    "        word2vec_path_input.disabled = True\n",
    "        generate_tree_button.disabled = True\n",
    "        generate_files(word2vec_path_input.value, data_path, SAMPLE, custom_input)\n",
    "        \n",
    "def on_generate_balls_button_clicked(button):\n",
    "    print(\"Start Generating balls\")\n",
    "    generate_nballs_button.disabled = True\n",
    "    generate_nballs(word2vec_path_input.value)\n",
    "\n",
    "def on_vis_button_clicked(button):\n",
    "    visualize_balls()\n",
    "    \n",
    "# Set Widget listeners\n",
    "input_examples.observe(on_input_example_choose)\n",
    "check_input_button.on_click(on_check_button_clicked)\n",
    "generate_tree_button.on_click(on_generate_tree_button_clicked)\n",
    "generate_nballs_button.on_click(on_generate_balls_button_clicked)\n",
    "vis_button.on_click(on_vis_button_clicked)\n",
    "\n",
    "# Start UI nteraction\n",
    "display(input_examples)"
   ]
  },
  {
   "cell_type": "code",
   "execution_count": null,
   "metadata": {},
   "outputs": [],
   "source": []
  }
 ],
 "metadata": {
  "kernelspec": {
   "display_name": "Python 3",
   "language": "python",
   "name": "python3"
  },
  "language_info": {
   "codemirror_mode": {
    "name": "ipython",
    "version": 3
   },
   "file_extension": ".py",
   "mimetype": "text/x-python",
   "name": "python",
   "nbconvert_exporter": "python",
   "pygments_lexer": "ipython3",
   "version": "3.7.4"
  }
 },
 "nbformat": 4,
 "nbformat_minor": 2
}
